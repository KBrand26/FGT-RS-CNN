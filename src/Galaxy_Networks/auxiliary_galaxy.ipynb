{
 "cells": [
  {
   "cell_type": "code",
   "execution_count": null,
   "metadata": {},
   "outputs": [],
   "source": [
    "import numpy as np\n",
    "import pandas as pd\n",
    "import tensorflow as tf\n",
    "import os\n",
    "from functools import partial\n",
    "from tensorflow import keras\n",
    "import sys\n",
    "sys.path.append(\"..\")\n",
    "from train_models import train_aux, probe_dir\n",
    "from data_prep import load_galaxy_data\n",
    "from tensorboard.backend.event_processing.event_accumulator import EventAccumulator\n",
    "from sklearn.model_selection import train_test_split\n",
    "from sklearn.preprocessing import MinMaxScaler\n",
    "import time"
   ]
  },
  {
   "cell_type": "code",
   "execution_count": null,
   "metadata": {},
   "outputs": [],
   "source": [
    "X = np.load('../../data/galaxy_X.npy')\n",
    "y_aux = np.load('../../data/galaxy_y_aux.npy')"
   ]
  },
  {
   "cell_type": "code",
   "execution_count": null,
   "metadata": {},
   "outputs": [],
   "source": [
    "#Set seeds to be able to reproduce network\n",
    "keras.backend.clear_session()\n",
    "np.random.seed(42)\n",
    "tf.random.set_seed(42)"
   ]
  },
  {
   "cell_type": "code",
   "execution_count": null,
   "metadata": {},
   "outputs": [],
   "source": [
    "# Split into subsets\n",
    "X_tmp_train, X_test1, y_aux_tmp_train, y_aux_test1 = train_test_split(X, y_aux, test_size=0.1, train_size=0.9, random_state=42, shuffle=True)\n",
    "X_train1, X_val1, y_aux_train1, y_aux_val1 = train_test_split(X_tmp_train, y_aux_tmp_train, test_size=0.11, train_size=0.89, random_state=42, shuffle=True)"
   ]
  },
  {
   "cell_type": "code",
   "execution_count": null,
   "metadata": {},
   "outputs": [],
   "source": [
    "# Apply normalization to images\n",
    "def normalize_images(X):\n",
    "    return np.array(list(map(normalize_image, X)))\n",
    "    \n",
    "def normalize_image(img):\n",
    "    bot = np.min(img)\n",
    "    top = np.max(img)\n",
    "    norm = (img - bot)/(top - bot)\n",
    "    return norm\n",
    "\n",
    "X_train = normalize_images(X_train1)\n",
    "X_val = normalize_images(X_val1)\n",
    "X_test = normalize_images(X_test1)\n",
    "\n",
    "X_train = X_train[..., np.newaxis]\n",
    "X_val = X_val[..., np.newaxis]\n",
    "X_test = X_test[..., np.newaxis]"
   ]
  },
  {
   "cell_type": "code",
   "execution_count": null,
   "metadata": {},
   "outputs": [],
   "source": [
    "# Normalize the feature vectors to allow for sigmoid output\n",
    "def normalize_targets(y):\n",
    "    bot = np.min(y, axis=0)\n",
    "    top = np.max(y, axis=0)\n",
    "    norm = (y - bot)/(top - bot)\n",
    "    return norm\n",
    "\n",
    "y_aux_train = normalize_targets(y_aux_train1)\n",
    "y_aux_val = normalize_targets(y_aux_val1)\n",
    "y_aux_test = normalize_targets(y_aux_test1)"
   ]
  },
  {
   "cell_type": "code",
   "execution_count": null,
   "metadata": {},
   "outputs": [],
   "source": [
    "runs = 20\n",
    "total_loss = 0\n",
    "total_bent_entropy = 0\n",
    "total_fr_mse = 0\n",
    "total_cores_mse = 0\n",
    "total_size_mse = 0\n",
    "total_bent_acc = 0\n",
    "total_fr_mae = 0\n",
    "total_cores_mae = 0\n",
    "total_size_mae = 0\n",
    "elapsed = 0\n",
    "\n",
    "# Execute a few runs of training the network\n",
    "for run in range(1,runs+1):\n",
    "    start = time.time()\n",
    "    tmp_loss, tmp_bent_entropy, tmp_fr_mse, tmp_cores_mse, tmp_size_mse, tmp_bent_acc, tmp_fr_mae, tmp_cores_mae, tmp_size_mae = train_aux(X_train, y_aux_train, X_val, y_aux_val, X_test, y_aux_test, run)\n",
    "    keras.backend.clear_session()\n",
    "    end = time.time()\n",
    "    elapsed += (end - start)\n",
    "    total_loss += tmp_loss\n",
    "    total_bent_entropy += tmp_bent_entropy\n",
    "    total_fr_mse += tmp_fr_mse\n",
    "    total_cores_mse += tmp_cores_mse\n",
    "    total_size_mse += tmp_size_mse\n",
    "    total_bent_acc += tmp_bent_acc\n",
    "    total_fr_mae += tmp_fr_mae\n",
    "    total_cores_mae += tmp_cores_mae\n",
    "    total_size_mae += tmp_size_mae\n",
    "avg_loss = total_loss/runs\n",
    "avg_bent_entropy = total_bent_entropy/runs\n",
    "avg_fr_mse = total_fr_mse/runs\n",
    "avg_cores_mse = total_cores_mse/runs\n",
    "avg_size_mse = total_size_mse/runs\n",
    "avg_bent_acc = total_bent_acc/runs\n",
    "avg_fr_mae = total_fr_mae/runs\n",
    "avg_cores_mae = total_cores_mae/runs\n",
    "avg_size_mae = total_size_mae/runs\n",
    "avg_elapsed = elapsed/runs"
   ]
  },
  {
   "cell_type": "code",
   "execution_count": null,
   "metadata": {},
   "outputs": [],
   "source": [
    "# Evaluate the number of epochs it took to train the networks\n",
    "runs = 20\n",
    "epochs_log = []\n",
    "for run in range(1,runs+1):\n",
    "    ea = EventAccumulator(f'../../lr_logs/aux_run{run}/train')\n",
    "    ea.Reload()\n",
    "    ct_loss, epochs_loss, loss = zip(*ea.Tensors('epoch_loss'))\n",
    "    epochs_loss = np.asarray(epochs_loss)\n",
    "    epochs_log.append(epochs_loss[-1] + 1)\n",
    "\n",
    "epochs_log = np.array(epochs_log)\n",
    "avg_epochs = np.mean(epochs_log)\n",
    "min_idx = np.argmin(epochs_log) + 1\n",
    "min_epochs = epochs_log[min_idx - 1]\n",
    "max_idx = np.argmax(epochs_log) + 1\n",
    "max_epochs = epochs_log[max_idx - 1]"
   ]
  },
  {
   "cell_type": "code",
   "execution_count": null,
   "metadata": {},
   "outputs": [],
   "source": [
    "avg_mse = (avg_fr_mse + avg_cores_mse + avg_size_mse)/3\n",
    "avg_mae = (avg_fr_mae + avg_cores_mae + avg_size_mae)/3\n",
    "tmp = np.array([avg_bent_entropy, avg_fr_mse, avg_cores_mse, avg_size_mse, avg_bent_acc, avg_fr_mae, avg_cores_mae, avg_size_mae, avg_mse, avg_mae, avg_loss, avg_elapsed, avg_epochs, max_epochs, max_idx, min_epochs, min_idx])\n",
    "probe_dir('../../results/')\n",
    "np.save('../../results/aux_results.npy', tmp)\n",
    "tmp = np.load('../../results/aux_results.npy')"
   ]
  },
  {
   "cell_type": "code",
   "execution_count": null,
   "metadata": {},
   "outputs": [],
   "source": [
    "print(f\"Average mean bent entropy: {tmp[0]}\")\n",
    "print(f\"Average FR ratio MSE: {tmp[1]}\")\n",
    "print(f\"Average core count MSE: {tmp[2]}\")\n",
    "print(f\"Average core ratio MSE: {tmp[3]}\")\n",
    "print(f\"Average bent accuracy: {tmp[4]}\")\n",
    "print(f\"Average FR ratio MAE: {tmp[5]}\")\n",
    "print(f\"Average core count MAE: {tmp[6]}\")\n",
    "print(f\"Average core ratio MAE: {tmp[7]}\")\n",
    "print(f\"Average overall MSE: {tmp[8]}\")\n",
    "print(f\"Average overall MAE: {tmp[9]}\")\n",
    "print(f\"Average loss: {tmp[10]}\")\n",
    "print(f\"Average time taken: {tmp[11]}\")\n",
    "print(f\"Average epochs taken: {tmp[12]}\")\n",
    "print(f\"Maximum number of epochs taken was {tmp[13]} at run {tmp[14]}\")\n",
    "print(f\"Minimum number of epochs taken was {tmp[15]} at run {tmp[16]}\")"
   ]
  },
  {
   "cell_type": "code",
   "execution_count": null,
   "metadata": {},
   "outputs": [],
   "source": []
  }
 ],
 "metadata": {
  "kernelspec": {
   "display_name": "Python 3",
   "language": "python",
   "name": "python3"
  },
  "language_info": {
   "codemirror_mode": {
    "name": "ipython",
    "version": 3
   },
   "file_extension": ".py",
   "mimetype": "text/x-python",
   "name": "python",
   "nbconvert_exporter": "python",
   "pygments_lexer": "ipython3",
   "version": "3.8.10"
  }
 },
 "nbformat": 4,
 "nbformat_minor": 2
}
