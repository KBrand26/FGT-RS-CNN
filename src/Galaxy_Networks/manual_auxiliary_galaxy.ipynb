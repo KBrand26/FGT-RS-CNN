{
 "cells": [
  {
   "cell_type": "code",
   "execution_count": 1,
   "metadata": {},
   "outputs": [],
   "source": [
    "import numpy as np\n",
    "import pandas as pd\n",
    "import tensorflow as tf\n",
    "import os\n",
    "from functools import partial\n",
    "from tensorflow import keras\n",
    "import sys\n",
    "sys.path.append(\"..\")\n",
    "from train_models import train_aux_man, probe_dir\n",
    "from tensorboard.backend.event_processing.event_accumulator import EventAccumulator\n",
    "from sklearn.model_selection import train_test_split\n",
    "from sklearn.preprocessing import MinMaxScaler\n",
    "import time"
   ]
  },
  {
   "cell_type": "code",
   "execution_count": 2,
   "metadata": {},
   "outputs": [],
   "source": [
    "X = np.load('../../data/galaxy_X.npy')\n",
    "y_man_aux = np.load('../../data/galaxy_y_manual_aux.npy')"
   ]
  },
  {
   "cell_type": "code",
   "execution_count": 3,
   "metadata": {},
   "outputs": [],
   "source": [
    "#Set seeds to be able to reproduce network\n",
    "keras.backend.clear_session()\n",
    "np.random.seed(42)\n",
    "tf.random.set_seed(42)"
   ]
  },
  {
   "cell_type": "code",
   "execution_count": 4,
   "metadata": {},
   "outputs": [],
   "source": [
    "X_tmp_train, X_test1, y_man_aux_tmp_train, y_man_aux_test1 = train_test_split(X, y_man_aux, test_size=0.1, train_size=0.9, random_state=42, shuffle=True)\n",
    "X_train1, X_val1, y_man_aux_train1, y_man_aux_val1 = train_test_split(X_tmp_train, y_man_aux_tmp_train, test_size=0.11, train_size=0.89, random_state=42, shuffle=True)"
   ]
  },
  {
   "cell_type": "code",
   "execution_count": 5,
   "metadata": {},
   "outputs": [],
   "source": [
    "def normalize_images(X):\n",
    "    return np.array(list(map(normalize_image, X)))\n",
    "    \n",
    "def normalize_image(img):\n",
    "    bot = np.min(img)\n",
    "    top = np.max(img)\n",
    "    norm = (img - bot)/(top - bot)\n",
    "    return norm\n",
    "\n",
    "X_train = normalize_images(X_train1)\n",
    "X_val = normalize_images(X_val1)\n",
    "X_test = normalize_images(X_test1)\n",
    "\n",
    "X_train = X_train[..., np.newaxis]\n",
    "X_val = X_val[..., np.newaxis]\n",
    "X_test = X_test[..., np.newaxis]"
   ]
  },
  {
   "cell_type": "code",
   "execution_count": 6,
   "metadata": {},
   "outputs": [],
   "source": [
    "# Normalize feature vectors to allow for sigmoid output\n",
    "def normalize_targets(y):\n",
    "    bot = np.min(y, axis=0)\n",
    "    top = np.max(y, axis=0)\n",
    "    norm = (y - bot)/(top - bot)\n",
    "    return norm\n",
    "\n",
    "y_man_aux_train = normalize_targets(y_man_aux_train1)\n",
    "y_man_aux_val = normalize_targets(y_man_aux_val1)\n",
    "y_man_aux_test = normalize_targets(y_man_aux_test1)"
   ]
  },
  {
   "cell_type": "code",
   "execution_count": 7,
   "metadata": {},
   "outputs": [
    {
     "name": "stdout",
     "output_type": "stream",
     "text": [
      "Epoch 1/100\n",
      "22/22 [==============================] - 14s 403ms/step - loss: 0.8527 - bent_out_loss: 0.5773 - fr_out_loss: 0.1023 - cores_out_loss: 0.0723 - size_out_loss: 0.1008 - bent_out_accuracy: 0.6923 - fr_out_mean_absolute_error: 0.2813 - cores_out_mean_absolute_error: 0.2224 - size_out_mean_absolute_error: 0.2851 - val_loss: 0.8279 - val_bent_out_loss: 0.4640 - val_fr_out_loss: 0.0846 - val_cores_out_loss: 0.1240 - val_size_out_loss: 0.1553 - val_bent_out_accuracy: 0.7816 - val_fr_out_mean_absolute_error: 0.2527 - val_cores_out_mean_absolute_error: 0.3104 - val_size_out_mean_absolute_error: 0.2952\n",
      "Epoch 2/100\n",
      "22/22 [==============================] - 5s 247ms/step - loss: 0.6718 - bent_out_loss: 0.4528 - fr_out_loss: 0.0891 - cores_out_loss: 0.0632 - size_out_loss: 0.0667 - bent_out_accuracy: 0.7920 - fr_out_mean_absolute_error: 0.2471 - cores_out_mean_absolute_error: 0.2048 - size_out_mean_absolute_error: 0.2008 - val_loss: 0.8603 - val_bent_out_loss: 0.4896 - val_fr_out_loss: 0.0781 - val_cores_out_loss: 0.1357 - val_size_out_loss: 0.1570 - val_bent_out_accuracy: 0.7471 - val_fr_out_mean_absolute_error: 0.2269 - val_cores_out_mean_absolute_error: 0.3051 - val_size_out_mean_absolute_error: 0.2888\n",
      "Epoch 3/100\n",
      "22/22 [==============================] - 8s 353ms/step - loss: 0.6153 - bent_out_loss: 0.4082 - fr_out_loss: 0.0798 - cores_out_loss: 0.0609 - size_out_loss: 0.0663 - bent_out_accuracy: 0.8205 - fr_out_mean_absolute_error: 0.2298 - cores_out_mean_absolute_error: 0.1987 - size_out_mean_absolute_error: 0.1966 - val_loss: 0.7406 - val_bent_out_loss: 0.4112 - val_fr_out_loss: 0.0728 - val_cores_out_loss: 0.1160 - val_size_out_loss: 0.1406 - val_bent_out_accuracy: 0.7701 - val_fr_out_mean_absolute_error: 0.2183 - val_cores_out_mean_absolute_error: 0.2756 - val_size_out_mean_absolute_error: 0.2822\n",
      "Epoch 4/100\n",
      "22/22 [==============================] - 5s 245ms/step - loss: 0.5618 - bent_out_loss: 0.3692 - fr_out_loss: 0.0723 - cores_out_loss: 0.0553 - size_out_loss: 0.0650 - bent_out_accuracy: 0.8234 - fr_out_mean_absolute_error: 0.2139 - cores_out_mean_absolute_error: 0.1887 - size_out_mean_absolute_error: 0.1902 - val_loss: 0.7606 - val_bent_out_loss: 0.4409 - val_fr_out_loss: 0.0692 - val_cores_out_loss: 0.1105 - val_size_out_loss: 0.1401 - val_bent_out_accuracy: 0.7356 - val_fr_out_mean_absolute_error: 0.2103 - val_cores_out_mean_absolute_error: 0.2709 - val_size_out_mean_absolute_error: 0.2847\n",
      "Epoch 5/100\n",
      "22/22 [==============================] - 5s 246ms/step - loss: 0.5255 - bent_out_loss: 0.3394 - fr_out_loss: 0.0711 - cores_out_loss: 0.0515 - size_out_loss: 0.0635 - bent_out_accuracy: 0.8575 - fr_out_mean_absolute_error: 0.2063 - cores_out_mean_absolute_error: 0.1802 - size_out_mean_absolute_error: 0.1847 - val_loss: 0.7544 - val_bent_out_loss: 0.4272 - val_fr_out_loss: 0.0663 - val_cores_out_loss: 0.1076 - val_size_out_loss: 0.1533 - val_bent_out_accuracy: 0.7586 - val_fr_out_mean_absolute_error: 0.2081 - val_cores_out_mean_absolute_error: 0.2661 - val_size_out_mean_absolute_error: 0.2975\n",
      "Epoch 6/100\n",
      "22/22 [==============================] - 5s 247ms/step - loss: 0.4828 - bent_out_loss: 0.3089 - fr_out_loss: 0.0608 - cores_out_loss: 0.0505 - size_out_loss: 0.0627 - bent_out_accuracy: 0.8761 - fr_out_mean_absolute_error: 0.1872 - cores_out_mean_absolute_error: 0.1751 - size_out_mean_absolute_error: 0.1827 - val_loss: 0.7433 - val_bent_out_loss: 0.4352 - val_fr_out_loss: 0.0628 - val_cores_out_loss: 0.1006 - val_size_out_loss: 0.1447 - val_bent_out_accuracy: 0.7931 - val_fr_out_mean_absolute_error: 0.1988 - val_cores_out_mean_absolute_error: 0.2573 - val_size_out_mean_absolute_error: 0.2870\n",
      "Epoch 7/100\n",
      "22/22 [==============================] - 5s 247ms/step - loss: 0.4953 - bent_out_loss: 0.3190 - fr_out_loss: 0.0608 - cores_out_loss: 0.0512 - size_out_loss: 0.0643 - bent_out_accuracy: 0.8618 - fr_out_mean_absolute_error: 0.1865 - cores_out_mean_absolute_error: 0.1780 - size_out_mean_absolute_error: 0.1837 - val_loss: 0.8398 - val_bent_out_loss: 0.5390 - val_fr_out_loss: 0.0698 - val_cores_out_loss: 0.0864 - val_size_out_loss: 0.1446 - val_bent_out_accuracy: 0.7586 - val_fr_out_mean_absolute_error: 0.2101 - val_cores_out_mean_absolute_error: 0.2462 - val_size_out_mean_absolute_error: 0.3375\n",
      "Epoch 8/100\n",
      "22/22 [==============================] - 5s 246ms/step - loss: 0.4626 - bent_out_loss: 0.2902 - fr_out_loss: 0.0628 - cores_out_loss: 0.0471 - size_out_loss: 0.0626 - bent_out_accuracy: 0.8832 - fr_out_mean_absolute_error: 0.1924 - cores_out_mean_absolute_error: 0.1670 - size_out_mean_absolute_error: 0.1826 - val_loss: 0.8022 - val_bent_out_loss: 0.4771 - val_fr_out_loss: 0.0616 - val_cores_out_loss: 0.0998 - val_size_out_loss: 0.1637 - val_bent_out_accuracy: 0.7471 - val_fr_out_mean_absolute_error: 0.1971 - val_cores_out_mean_absolute_error: 0.2497 - val_size_out_mean_absolute_error: 0.3117\n",
      "3/3 [==============================] - 1s 348ms/step - loss: 0.5294 - bent_out_loss: 0.2934 - fr_out_loss: 0.0856 - cores_out_loss: 0.0965 - size_out_loss: 0.0539 - bent_out_accuracy: 0.8864 - fr_out_mean_absolute_error: 0.2124 - cores_out_mean_absolute_error: 0.2507 - size_out_mean_absolute_error: 0.1644\n",
      "Epoch 1/100\n",
      "22/22 [==============================] - 8s 272ms/step - loss: 0.8613 - bent_out_loss: 0.5848 - fr_out_loss: 0.1037 - cores_out_loss: 0.0756 - size_out_loss: 0.0972 - bent_out_accuracy: 0.6724 - fr_out_mean_absolute_error: 0.2836 - cores_out_mean_absolute_error: 0.2231 - size_out_mean_absolute_error: 0.2699 - val_loss: 0.8938 - val_bent_out_loss: 0.5343 - val_fr_out_loss: 0.0842 - val_cores_out_loss: 0.1268 - val_size_out_loss: 0.1485 - val_bent_out_accuracy: 0.7701 - val_fr_out_mean_absolute_error: 0.2535 - val_cores_out_mean_absolute_error: 0.3147 - val_size_out_mean_absolute_error: 0.2826\n",
      "Epoch 2/100\n",
      "22/22 [==============================] - 8s 363ms/step - loss: 0.6764 - bent_out_loss: 0.4441 - fr_out_loss: 0.0995 - cores_out_loss: 0.0687 - size_out_loss: 0.0640 - bent_out_accuracy: 0.7906 - fr_out_mean_absolute_error: 0.2618 - cores_out_mean_absolute_error: 0.2134 - size_out_mean_absolute_error: 0.1930 - val_loss: 0.7726 - val_bent_out_loss: 0.4271 - val_fr_out_loss: 0.0779 - val_cores_out_loss: 0.1259 - val_size_out_loss: 0.1417 - val_bent_out_accuracy: 0.7816 - val_fr_out_mean_absolute_error: 0.2389 - val_cores_out_mean_absolute_error: 0.2992 - val_size_out_mean_absolute_error: 0.2736\n",
      "Epoch 3/100\n",
      "22/22 [==============================] - 8s 347ms/step - loss: 0.6395 - bent_out_loss: 0.4320 - fr_out_loss: 0.0821 - cores_out_loss: 0.0574 - size_out_loss: 0.0680 - bent_out_accuracy: 0.8034 - fr_out_mean_absolute_error: 0.2332 - cores_out_mean_absolute_error: 0.1912 - size_out_mean_absolute_error: 0.1992 - val_loss: 0.7417 - val_bent_out_loss: 0.4129 - val_fr_out_loss: 0.0761 - val_cores_out_loss: 0.1132 - val_size_out_loss: 0.1395 - val_bent_out_accuracy: 0.7816 - val_fr_out_mean_absolute_error: 0.2222 - val_cores_out_mean_absolute_error: 0.2842 - val_size_out_mean_absolute_error: 0.2829\n",
      "Epoch 4/100\n",
      "22/22 [==============================] - 5s 246ms/step - loss: 0.5976 - bent_out_loss: 0.3929 - fr_out_loss: 0.0812 - cores_out_loss: 0.0590 - size_out_loss: 0.0645 - bent_out_accuracy: 0.8205 - fr_out_mean_absolute_error: 0.2271 - cores_out_mean_absolute_error: 0.1972 - size_out_mean_absolute_error: 0.1887 - val_loss: 0.7736 - val_bent_out_loss: 0.4514 - val_fr_out_loss: 0.0774 - val_cores_out_loss: 0.1050 - val_size_out_loss: 0.1397 - val_bent_out_accuracy: 0.7816 - val_fr_out_mean_absolute_error: 0.2214 - val_cores_out_mean_absolute_error: 0.2744 - val_size_out_mean_absolute_error: 0.3070\n",
      "Epoch 5/100\n",
      "22/22 [==============================] - 5s 246ms/step - loss: 0.5366 - bent_out_loss: 0.3457 - fr_out_loss: 0.0720 - cores_out_loss: 0.0567 - size_out_loss: 0.0622 - bent_out_accuracy: 0.8490 - fr_out_mean_absolute_error: 0.2095 - cores_out_mean_absolute_error: 0.1904 - size_out_mean_absolute_error: 0.1806 - val_loss: 0.7905 - val_bent_out_loss: 0.4466 - val_fr_out_loss: 0.0686 - val_cores_out_loss: 0.1164 - val_size_out_loss: 0.1588 - val_bent_out_accuracy: 0.7241 - val_fr_out_mean_absolute_error: 0.2013 - val_cores_out_mean_absolute_error: 0.2741 - val_size_out_mean_absolute_error: 0.2910\n"
     ]
    },
    {
     "name": "stdout",
     "output_type": "stream",
     "text": [
      "Epoch 6/100\n",
      "22/22 [==============================] - 5s 246ms/step - loss: 0.5051 - bent_out_loss: 0.3160 - fr_out_loss: 0.0731 - cores_out_loss: 0.0528 - size_out_loss: 0.0631 - bent_out_accuracy: 0.8689 - fr_out_mean_absolute_error: 0.2122 - cores_out_mean_absolute_error: 0.1843 - size_out_mean_absolute_error: 0.1814 - val_loss: 0.7620 - val_bent_out_loss: 0.4414 - val_fr_out_loss: 0.0670 - val_cores_out_loss: 0.1035 - val_size_out_loss: 0.1502 - val_bent_out_accuracy: 0.7816 - val_fr_out_mean_absolute_error: 0.1994 - val_cores_out_mean_absolute_error: 0.2639 - val_size_out_mean_absolute_error: 0.2922\n",
      "Epoch 7/100\n",
      "22/22 [==============================] - 5s 246ms/step - loss: 0.4947 - bent_out_loss: 0.3176 - fr_out_loss: 0.0630 - cores_out_loss: 0.0517 - size_out_loss: 0.0624 - bent_out_accuracy: 0.8604 - fr_out_mean_absolute_error: 0.1920 - cores_out_mean_absolute_error: 0.1799 - size_out_mean_absolute_error: 0.1821 - val_loss: 0.9525 - val_bent_out_loss: 0.6372 - val_fr_out_loss: 0.0780 - val_cores_out_loss: 0.0977 - val_size_out_loss: 0.1396 - val_bent_out_accuracy: 0.7701 - val_fr_out_mean_absolute_error: 0.2145 - val_cores_out_mean_absolute_error: 0.2566 - val_size_out_mean_absolute_error: 0.3131\n",
      "Epoch 8/100\n",
      "22/22 [==============================] - 5s 246ms/step - loss: 0.4835 - bent_out_loss: 0.3016 - fr_out_loss: 0.0619 - cores_out_loss: 0.0553 - size_out_loss: 0.0646 - bent_out_accuracy: 0.8746 - fr_out_mean_absolute_error: 0.1885 - cores_out_mean_absolute_error: 0.1806 - size_out_mean_absolute_error: 0.1816 - val_loss: 0.7959 - val_bent_out_loss: 0.4685 - val_fr_out_loss: 0.0661 - val_cores_out_loss: 0.0987 - val_size_out_loss: 0.1626 - val_bent_out_accuracy: 0.7241 - val_fr_out_mean_absolute_error: 0.2036 - val_cores_out_mean_absolute_error: 0.2574 - val_size_out_mean_absolute_error: 0.3179\n",
      "3/3 [==============================] - 0s 51ms/step - loss: 0.5327 - bent_out_loss: 0.2988 - fr_out_loss: 0.0823 - cores_out_loss: 0.0969 - size_out_loss: 0.0547 - bent_out_accuracy: 0.8636 - fr_out_mean_absolute_error: 0.2196 - cores_out_mean_absolute_error: 0.2624 - size_out_mean_absolute_error: 0.1598\n"
     ]
    }
   ],
   "source": [
    "runs = 20\n",
    "total_loss = 0\n",
    "total_bent_entropy = 0\n",
    "total_fr_mse = 0\n",
    "total_cores_mse = 0\n",
    "total_size_mse = 0\n",
    "total_bent_acc = 0\n",
    "total_fr_mae = 0\n",
    "total_cores_mae = 0\n",
    "total_size_mae = 0\n",
    "elapsed = 0\n",
    "\n",
    "# Execute a few runs of training the network\n",
    "for run in range(1,runs+1):\n",
    "    start = time.time()\n",
    "    tmp_loss, tmp_bent_entropy, tmp_fr_mse, tmp_cores_mse, tmp_size_mse, tmp_bent_acc, tmp_fr_mae, tmp_cores_mae, tmp_size_mae = train_aux_man(X_train, y_man_aux_train, X_val, y_man_aux_val, X_test, y_man_aux_test, run)\n",
    "    keras.backend.clear_session()\n",
    "    end = time.time()\n",
    "    elapsed += (end - start)\n",
    "    total_loss += tmp_loss\n",
    "    total_bent_entropy += tmp_bent_entropy\n",
    "    total_fr_mse += tmp_fr_mse\n",
    "    total_cores_mse += tmp_cores_mse\n",
    "    total_size_mse += tmp_size_mse\n",
    "    total_bent_acc += tmp_bent_acc\n",
    "    total_fr_mae += tmp_fr_mae\n",
    "    total_cores_mae += tmp_cores_mae\n",
    "    total_size_mae += tmp_size_mae\n",
    "avg_loss = total_loss/runs\n",
    "avg_bent_entropy = total_bent_entropy/runs\n",
    "avg_fr_mse = total_fr_mse/runs\n",
    "avg_cores_mse = total_cores_mse/runs\n",
    "avg_size_mse = total_size_mse/runs\n",
    "avg_bent_acc = total_bent_acc/runs\n",
    "avg_fr_mae = total_fr_mae/runs\n",
    "avg_cores_mae = total_cores_mae/runs\n",
    "avg_size_mae = total_size_mae/runs\n",
    "avg_elapsed = elapsed/runs"
   ]
  },
  {
   "cell_type": "code",
   "execution_count": 8,
   "metadata": {},
   "outputs": [],
   "source": [
    "# Evaluate the number of epochs it took to train the networks\n",
    "runs = 20\n",
    "epochs_log = []\n",
    "for run in range(1,runs+1):\n",
    "    ea = EventAccumulator(f'../../lr_logs/man_aux_run{run}/train')\n",
    "    ea.Reload()\n",
    "    ct_loss, epochs_loss, loss = zip(*ea.Tensors('epoch_loss'))\n",
    "    epochs_loss = np.asarray(epochs_loss)\n",
    "    epochs_log.append(epochs_loss[-1] + 1)\n",
    "\n",
    "epochs_log = np.array(epochs_log)\n",
    "avg_epochs = np.mean(epochs_log)\n",
    "min_idx = np.argmin(epochs_log) + 1\n",
    "min_epochs = epochs_log[min_idx - 1]\n",
    "max_idx = np.argmax(epochs_log) + 1\n",
    "max_epochs = epochs_log[max_idx - 1]"
   ]
  },
  {
   "cell_type": "code",
   "execution_count": 9,
   "metadata": {},
   "outputs": [],
   "source": [
    "avg_mse = (avg_fr_mse + avg_cores_mse + avg_size_mse)/3\n",
    "avg_mae = (avg_fr_mae + avg_cores_mae + avg_size_mae)/3\n",
    "tmp = np.array([avg_bent_entropy, avg_fr_mse, avg_cores_mse, avg_size_mse, avg_bent_acc, avg_fr_mae, avg_cores_mae, avg_size_mae, avg_mse, avg_mae, avg_loss, avg_elapsed, avg_epochs, max_epochs, max_idx, min_epochs, min_idx])\n",
    "probe_dir('../../results/')\n",
    "np.save('../../results/man_aux_results.npy', tmp)\n",
    "tmp = np.load('../../results/man_aux_results.npy')"
   ]
  },
  {
   "cell_type": "code",
   "execution_count": 10,
   "metadata": {},
   "outputs": [
    {
     "name": "stdout",
     "output_type": "stream",
     "text": [
      "Average mean bent entropy: 0.2960760295391083\n",
      "Average FR ratio MSE: 0.08395658805966377\n",
      "Average core count MSE: 0.09669435396790504\n",
      "Average core ratio MSE: 0.05430832505226135\n",
      "Average bent accuracy: 0.875\n",
      "Average FR ratio MAE: 0.2159782573580742\n",
      "Average core count MAE: 0.25653596222400665\n",
      "Average core ratio MAE: 0.16214070469141006\n",
      "Average overall MSE: 0.07831975569327672\n",
      "Average overall MAE: 0.21155164142449698\n",
      "Average loss: 0.5310352742671967\n",
      "Average time taken: 54.16975474357605\n",
      "Average epochs taken: 8.0\n",
      "Maximum number of epochs taken was 8.0 at run 1.0\n",
      "Minimum number of epochs taken was 8.0 at run 1.0\n"
     ]
    }
   ],
   "source": [
    "print(f\"Average mean bent entropy: {tmp[0]}\")\n",
    "print(f\"Average FR ratio MSE: {tmp[1]}\")\n",
    "print(f\"Average core count MSE: {tmp[2]}\")\n",
    "print(f\"Average core ratio MSE: {tmp[3]}\")\n",
    "print(f\"Average bent accuracy: {tmp[4]}\")\n",
    "print(f\"Average FR ratio MAE: {tmp[5]}\")\n",
    "print(f\"Average core count MAE: {tmp[6]}\")\n",
    "print(f\"Average core ratio MAE: {tmp[7]}\")\n",
    "print(f\"Average overall MSE: {tmp[8]}\")\n",
    "print(f\"Average overall MAE: {tmp[9]}\")\n",
    "print(f\"Average loss: {tmp[10]}\")\n",
    "print(f\"Average time taken: {tmp[11]}\")\n",
    "print(f\"Average epochs taken: {tmp[12]}\")\n",
    "print(f\"Maximum number of epochs taken was {tmp[13]} at run {tmp[14]}\")\n",
    "print(f\"Minimum number of epochs taken was {tmp[15]} at run {tmp[16]}\")"
   ]
  },
  {
   "cell_type": "code",
   "execution_count": null,
   "metadata": {},
   "outputs": [],
   "source": []
  }
 ],
 "metadata": {
  "kernelspec": {
   "display_name": "Python 3",
   "language": "python",
   "name": "python3"
  },
  "language_info": {
   "codemirror_mode": {
    "name": "ipython",
    "version": 3
   },
   "file_extension": ".py",
   "mimetype": "text/x-python",
   "name": "python",
   "nbconvert_exporter": "python",
   "pygments_lexer": "ipython3",
   "version": "3.8.10"
  }
 },
 "nbformat": 4,
 "nbformat_minor": 2
}
