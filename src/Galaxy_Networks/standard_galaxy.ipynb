{
 "cells": [
  {
   "cell_type": "code",
   "execution_count": 4,
   "metadata": {},
   "outputs": [
    {
     "ename": "ModuleNotFoundError",
     "evalue": "No module named 'evaluate_models'",
     "output_type": "error",
     "traceback": [
      "\u001b[0;31m---------------------------------------------------------------------------\u001b[0m",
      "\u001b[0;31mModuleNotFoundError\u001b[0m                       Traceback (most recent call last)",
      "Cell \u001b[0;32mIn [4], line 10\u001b[0m\n\u001b[1;32m      8\u001b[0m sys\u001b[38;5;241m.\u001b[39mpath\u001b[38;5;241m.\u001b[39mappend(\u001b[38;5;124m\"\u001b[39m\u001b[38;5;124m..\u001b[39m\u001b[38;5;124m\"\u001b[39m)\n\u001b[1;32m      9\u001b[0m \u001b[38;5;28;01mfrom\u001b[39;00m \u001b[38;5;21;01mtrain_models\u001b[39;00m \u001b[38;5;28;01mimport\u001b[39;00m train_standard, probe_dir\n\u001b[0;32m---> 10\u001b[0m \u001b[38;5;28;01mfrom\u001b[39;00m \u001b[38;5;21;01mevaluate_models\u001b[39;00m \u001b[38;5;28;01mimport\u001b[39;00m plot_cm, process_labels, calc_precision_recall, calc_f1\n",
      "\u001b[0;31mModuleNotFoundError\u001b[0m: No module named 'evaluate_models'"
     ]
    }
   ],
   "source": [
    "import numpy as np\n",
    "import pandas as pd\n",
    "import tensorflow as tf\n",
    "import os\n",
    "from functools import partial\n",
    "from tensorflow import keras\n",
    "import sys\n",
    "sys.path.append(\"..\")\n",
    "from sklearn.model_selection import train_test_split\n",
    "from train_models import train_standard, probe_dir\n",
    "from evaluate_models import plot_cm, process_labels, calc_precision_recall, calc_f1"
   ]
  },
  {
   "cell_type": "code",
   "execution_count": null,
   "metadata": {},
   "outputs": [],
   "source": [
    "# Load data\n",
    "X = np.load('../../data/galaxy_X.npy')\n",
    "y = np.load('../../data/galaxy_y.npy')"
   ]
  },
  {
   "cell_type": "code",
   "execution_count": null,
   "metadata": {},
   "outputs": [],
   "source": [
    "# Split into subsets\n",
    "X_tmp_train, X_test1, y_tmp_train, y_test = train_test_split(X, y, test_size=0.1, train_size=0.9, random_state=42, shuffle=True, stratify=y)\n",
    "X_train1, X_val1, y_train, y_val = train_test_split(X_tmp_train, y_tmp_train, test_size=0.11, train_size=0.89, random_state=42, shuffle=True, stratify=y_tmp_train)"
   ]
  },
  {
   "cell_type": "code",
   "execution_count": null,
   "metadata": {},
   "outputs": [],
   "source": [
    "#Set seeds to be able to reproduce network\n",
    "keras.backend.clear_session()\n",
    "np.random.seed(42)\n",
    "tf.random.set_seed(42)"
   ]
  },
  {
   "cell_type": "code",
   "execution_count": null,
   "metadata": {},
   "outputs": [],
   "source": [
    "# Normalize images and add axis for convolutional layers\n",
    "def normalize_images(X):\n",
    "    return np.array(list(map(normalize_image, X)))\n",
    "    \n",
    "def normalize_image(img):\n",
    "    bot = np.min(img)\n",
    "    top = np.max(img)\n",
    "    norm = (img - bot)/(top - bot)\n",
    "    return norm\n",
    "\n",
    "X_train = normalize_images(X_train1)\n",
    "X_val = normalize_images(X_val1)\n",
    "X_test = normalize_images(X_test1)\n",
    "\n",
    "X_train = X_train[..., np.newaxis]\n",
    "X_val = X_val[..., np.newaxis]\n",
    "X_test = X_test[..., np.newaxis]"
   ]
  },
  {
   "cell_type": "code",
   "execution_count": null,
   "metadata": {},
   "outputs": [],
   "source": [
    "runs = 20\n",
    "total_loss = 0\n",
    "total_acc = 0\n",
    "elapsed = 0\n",
    "times = []\n",
    "\n",
    "# Execute training runs\n",
    "for run in range(1,runs+1):\n",
    "    start = time.time()\n",
    "    tmp_loss, tmp_acc = train_standard(X_train, y_train, X_val, y_val, X_test, y_test, run)\n",
    "    \n",
    "    # Reset state\n",
    "    keras.backend.clear_session()\n",
    "    end = time.time()\n",
    "    \n",
    "    # Record metrics\n",
    "    elapsed += (end - start)\n",
    "    times.append(end-start)\n",
    "    total_loss += tmp_loss\n",
    "    total_acc += tmp_acc\n",
    "    \n",
    "probe_dir('../../time_logs/')\n",
    "np.save('../../time_logs/standard_times.npy', times)\n",
    "avg_loss = total_loss/runs\n",
    "avg_acc = total_acc/runs\n",
    "avg_elapsed = elapsed/runs"
   ]
  },
  {
   "cell_type": "code",
   "execution_count": null,
   "metadata": {},
   "outputs": [],
   "source": [
    "# Evaluate the number of epochs it took to train the networks\n",
    "runs = 20\n",
    "epochs_log = []\n",
    "for run in range(1,runs+1):\n",
    "    ea = EventAccumulator(f'../../lr_logs/standard_run{run}/train')\n",
    "    ea.Reload()\n",
    "    ct_loss, epochs_loss, loss = zip(*ea.Tensors('epoch_loss'))\n",
    "    epochs_loss = np.asarray(epochs_loss)\n",
    "    epochs_log.append(epochs_loss[-1] + 1)\n",
    "\n",
    "epochs_log = np.array(epochs_log)\n",
    "avg_epochs = np.mean(epochs_log)\n",
    "min_idx = np.argmin(epochs_log) + 1\n",
    "min_epochs = epochs_log[min_idx - 1]\n",
    "max_idx = np.argmax(epochs_log) + 1\n",
    "max_epochs = epochs_log[max_idx - 1]"
   ]
  },
  {
   "cell_type": "code",
   "execution_count": null,
   "metadata": {},
   "outputs": [],
   "source": [
    "# Store the reported network performance\n",
    "tmp = np.array([avg_acc, avg_loss, avg_elapsed, avg_epochs, max_epochs, max_idx, min_epochs, min_idx])\n",
    "probe_dir('../../results/')\n",
    "np.save('../../results/standard_results.npy', tmp)\n",
    "tmp = np.load('../../results/standard_results.npy')"
   ]
  },
  {
   "cell_type": "code",
   "execution_count": null,
   "metadata": {},
   "outputs": [],
   "source": [
    "print(f\"Average accuracy: {tmp[0]}\")\n",
    "print(f\"Average loss: {tmp[1]}\")\n",
    "print(f\"Average time taken: {tmp[2]}\")\n",
    "print(f\"Average epochs taken: {tmp[3]}\")\n",
    "print(f\"Maximum number of epochs taken was {tmp[4]} at run {tmp[5]}\")\n",
    "print(f\"Minimum number of epochs taken was {tmp[6]} at run {tmp[7]}\")"
   ]
  },
  {
   "cell_type": "code",
   "execution_count": null,
   "metadata": {},
   "outputs": [],
   "source": [
    "# Additional performance evaluation\n",
    "bent_precs, bent_recalls, bent_f1s = [], [], []\n",
    "comp_precs, comp_recalls, comp_f1s = [], [], []\n",
    "fri_precs, fri_recalls, fri_f1s = [], [], []\n",
    "frii_precs, frii_recalls, frii_f1s = [], [], []\n",
    "macro_f1s = []\n",
    "average_cm = np.zeros((4, 4))\n",
    "runs = 20\n",
    "for run in range(1,runs+1):\n",
    "    best_model = keras.models.load_model(f\"../../models/standard_model{run}.h5\")\n",
    "    test_pred = best_model.predict(X_test)\n",
    "    new_test_true, new_test_pred = process_labels(y_test, test_pred)\n",
    "    cm = confusion_matrix(new_test_true, new_test_pred)\n",
    "    average_cm += cm\n",
    "    bent_prec, bent_recall = calc_precision_recall(cm, 0)\n",
    "    bent_precs.append(bent_prec)\n",
    "    bent_recalls.append(bent_recall)\n",
    "    bent_f1s.append(calc_f1(bent_prec, bent_recall))\n",
    "    comp_prec, comp_recall = calc_precision_recall(cm, 1)\n",
    "    comp_precs.append(comp_prec)\n",
    "    comp_recalls.append(comp_recall)\n",
    "    comp_f1s.append(calc_f1(comp_prec, comp_recall))\n",
    "    fri_prec, fri_recall = calc_precision_recall(cm, 2)\n",
    "    fri_precs.append(fri_prec)\n",
    "    fri_recalls.append(fri_recall)\n",
    "    fri_f1s.append(calc_f1(fri_prec, fri_recall))\n",
    "    frii_prec, frii_recall = calc_precision_recall(cm, 3)\n",
    "    frii_precs.append(frii_prec)\n",
    "    frii_recalls.append(frii_recall)\n",
    "    frii_f1s.append(calc_f1(frii_prec, frii_recall))\n",
    "    macro_f1s.append((bent_f1s[-1] + comp_f1s[-1] + fri_f1s[-1] + frii_f1s[-1])/4)\n",
    "\n",
    "average_cm = average_cm/runs\n",
    "print(f'Average bent precision: {np.mean(bent_precs)}')\n",
    "print(f'Average bent recall: {np.mean(bent_recalls)}')\n",
    "print(f'Average bent F1: {np.mean(bent_f1s)}')\n",
    "print(f'Average comp precision: {np.mean(comp_precs)}')\n",
    "print(f'Average comp recall: {np.mean(comp_recalls)}')\n",
    "print(f'Average comp F1: {np.mean(comp_f1s)}')\n",
    "print(f'Average FRI precision: {np.mean(fri_precs)}')\n",
    "print(f'Average FRI recall: {np.mean(fri_recalls)}')\n",
    "print(f'Average FRI F1: {np.mean(fri_f1s)}')\n",
    "print(f'Average FRII precision: {np.mean(frii_precs)}')\n",
    "print(f'Average FRII recall: {np.mean(frii_recalls)}')\n",
    "print(f'Average FRII F1: {np.mean(frii_f1s)}')\n",
    "print(f'Average Macro F1: {np.mean(macro_f1s)}')\n",
    "plot_cm(average_cm)"
   ]
  }
 ],
 "metadata": {
  "kernelspec": {
   "display_name": "Python 3",
   "language": "python",
   "name": "python3"
  },
  "language_info": {
   "codemirror_mode": {
    "name": "ipython",
    "version": 3
   },
   "file_extension": ".py",
   "mimetype": "text/x-python",
   "name": "python",
   "nbconvert_exporter": "python",
   "pygments_lexer": "ipython3",
   "version": "3.8.10"
  }
 },
 "nbformat": 4,
 "nbformat_minor": 2
}
