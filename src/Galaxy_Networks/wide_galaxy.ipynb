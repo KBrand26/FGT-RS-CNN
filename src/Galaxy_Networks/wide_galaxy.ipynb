{
 "cells": [
  {
   "cell_type": "code",
   "execution_count": 1,
   "metadata": {},
   "outputs": [],
   "source": [
    "import numpy as np\n",
    "import pandas as pd\n",
    "import tensorflow as tf\n",
    "import os\n",
    "from functools import partial\n",
    "from tensorflow import keras\n",
    "import sys\n",
    "sys.path.append(\"..\")\n",
    "from train_models import train_wide, probe_dir\n",
    "from data_prep import norm_image\n",
    "from evaluate_models import plot_cm, process_labels, calc_precision_recall, calc_f1\n",
    "from matplotlib import pyplot as plt\n",
    "from tensorboard.backend.event_processing.event_accumulator import EventAccumulator\n",
    "from sklearn.model_selection import train_test_split\n",
    "from sklearn.preprocessing import MinMaxScaler\n",
    "from sklearn.metrics import confusion_matrix\n",
    "import time"
   ]
  },
  {
   "cell_type": "code",
   "execution_count": 2,
   "metadata": {},
   "outputs": [],
   "source": [
    "X = np.load('../../data/galaxy_X.npy')\n",
    "y = np.load('../../data/galaxy_y.npy')"
   ]
  },
  {
   "cell_type": "code",
   "execution_count": 3,
   "metadata": {},
   "outputs": [],
   "source": [
    "X_tmp_train, X_test1, y_tmp_train, y_test = train_test_split(X, y, test_size=0.1, train_size=0.9, random_state=42, shuffle=True, stratify=y)\n",
    "X_train1, X_val1, y_train, y_val = train_test_split(X_tmp_train, y_tmp_train, test_size=0.11, train_size=0.89, random_state=42, shuffle=True, stratify=y_tmp_train)"
   ]
  },
  {
   "cell_type": "code",
   "execution_count": 4,
   "metadata": {},
   "outputs": [],
   "source": [
    "#Set seeds to be able to reproduce network\n",
    "keras.backend.clear_session()\n",
    "np.random.seed(42)\n",
    "tf.random.set_seed(42)"
   ]
  },
  {
   "cell_type": "code",
   "execution_count": 5,
   "metadata": {},
   "outputs": [],
   "source": [
    "# Apply normalization to images\n",
    "def normalize_images(X):\n",
    "    return np.array(list(map(normalize_image, X)))\n",
    "    \n",
    "def normalize_image(img):\n",
    "    bot = np.min(img)\n",
    "    top = np.max(img)\n",
    "    norm = (img - bot)/(top - bot)\n",
    "    return norm\n",
    "\n",
    "X_train = normalize_images(X_train1)\n",
    "X_val = normalize_images(X_val1)\n",
    "X_test = normalize_images(X_test1)\n",
    "\n",
    "X_train = X_train[..., np.newaxis]\n",
    "X_val = X_val[..., np.newaxis]\n",
    "X_test = X_test[..., np.newaxis]"
   ]
  },
  {
   "cell_type": "code",
   "execution_count": 6,
   "metadata": {},
   "outputs": [],
   "source": [
    "def reshape_predictions(pred):\n",
    "    length = len(pred[0])\n",
    "    new_preds = []\n",
    "    for j in range(length):\n",
    "        feats = []\n",
    "        for i in range(4):\n",
    "            feats.append(pred[i][j, 0])\n",
    "        new_preds.append(feats)\n",
    "    return np.array(new_preds)"
   ]
  },
  {
   "cell_type": "code",
   "execution_count": 7,
   "metadata": {},
   "outputs": [
    {
     "name": "stdout",
     "output_type": "stream",
     "text": [
      "Epoch 1/100\n",
      "22/22 [==============================] - 12s 396ms/step - loss: 1.2032 - categorical_accuracy: 0.5100 - val_loss: 0.8696 - val_categorical_accuracy: 0.6092\n",
      "Epoch 2/100\n",
      "22/22 [==============================] - 7s 342ms/step - loss: 0.8853 - categorical_accuracy: 0.6624 - val_loss: 0.6449 - val_categorical_accuracy: 0.7471\n",
      "Epoch 3/100\n",
      "22/22 [==============================] - 7s 336ms/step - loss: 0.7422 - categorical_accuracy: 0.7123 - val_loss: 0.6141 - val_categorical_accuracy: 0.8046\n",
      "Epoch 4/100\n",
      "22/22 [==============================] - 7s 341ms/step - loss: 0.6035 - categorical_accuracy: 0.7778 - val_loss: 0.4423 - val_categorical_accuracy: 0.8506\n",
      "Epoch 5/100\n",
      "22/22 [==============================] - 5s 241ms/step - loss: 0.5139 - categorical_accuracy: 0.8048 - val_loss: 0.5824 - val_categorical_accuracy: 0.7701\n",
      "Epoch 6/100\n",
      "22/22 [==============================] - 7s 337ms/step - loss: 0.4577 - categorical_accuracy: 0.8390 - val_loss: 0.4123 - val_categorical_accuracy: 0.8736\n",
      "Epoch 7/100\n",
      "22/22 [==============================] - 7s 344ms/step - loss: 0.3944 - categorical_accuracy: 0.8604 - val_loss: 0.3919 - val_categorical_accuracy: 0.8276\n",
      "Epoch 8/100\n",
      "22/22 [==============================] - 7s 335ms/step - loss: 0.3792 - categorical_accuracy: 0.8704 - val_loss: 0.3773 - val_categorical_accuracy: 0.8391\n",
      "Epoch 9/100\n",
      "22/22 [==============================] - 5s 245ms/step - loss: 0.3418 - categorical_accuracy: 0.8818 - val_loss: 0.4005 - val_categorical_accuracy: 0.8966\n",
      "Epoch 10/100\n",
      "22/22 [==============================] - 7s 338ms/step - loss: 0.3683 - categorical_accuracy: 0.8761 - val_loss: 0.3392 - val_categorical_accuracy: 0.8966\n",
      "Epoch 11/100\n",
      "22/22 [==============================] - 5s 245ms/step - loss: 0.3054 - categorical_accuracy: 0.8946 - val_loss: 0.4501 - val_categorical_accuracy: 0.8276\n",
      "Epoch 12/100\n",
      "22/22 [==============================] - 5s 244ms/step - loss: 0.2464 - categorical_accuracy: 0.9188 - val_loss: 0.4622 - val_categorical_accuracy: 0.8506\n",
      "Epoch 13/100\n",
      "22/22 [==============================] - 5s 244ms/step - loss: 0.2217 - categorical_accuracy: 0.9202 - val_loss: 0.7055 - val_categorical_accuracy: 0.8046\n",
      "Epoch 14/100\n",
      "22/22 [==============================] - 5s 243ms/step - loss: 0.2734 - categorical_accuracy: 0.9117 - val_loss: 0.3758 - val_categorical_accuracy: 0.8851\n",
      "Epoch 15/100\n",
      "22/22 [==============================] - 5s 242ms/step - loss: 0.2126 - categorical_accuracy: 0.9302 - val_loss: 0.3773 - val_categorical_accuracy: 0.8621\n",
      "3/3 [==============================] - 1s 349ms/step - loss: 0.3338 - categorical_accuracy: 0.8523\n"
     ]
    }
   ],
   "source": [
    "runs = 20\n",
    "total_loss = 0\n",
    "total_acc = 0\n",
    "elapsed = 0\n",
    "\n",
    "# Execute a few runs of training the network\n",
    "for run in range(1,runs+1):\n",
    "    aux_model = keras.models.load_model(f'../../models/aux_model{run}.h5')\n",
    "    X_train_pred = aux_model.predict(X_train)\n",
    "    X_train_aux = reshape_predictions(X_train_pred)\n",
    "    X_val_pred = aux_model.predict(X_val)\n",
    "    X_val_aux = reshape_predictions(X_val_pred)\n",
    "    X_test_pred = aux_model.predict(X_test)\n",
    "    X_test_aux = reshape_predictions(X_test_pred)\n",
    "    start = time.time()\n",
    "    tmp_loss, tmp_acc = train_wide(X_train_aux, X_train, y_train, X_val_aux, X_val, y_val, X_test_aux, X_test, y_test,  run)\n",
    "    keras.backend.clear_session()\n",
    "    end = time.time()\n",
    "    elapsed += (end - start)\n",
    "    total_loss += tmp_loss\n",
    "    total_acc += tmp_acc\n",
    "avg_loss = total_loss/runs\n",
    "avg_acc = total_acc/runs\n",
    "avg_elapsed = elapsed/runs"
   ]
  },
  {
   "cell_type": "code",
   "execution_count": 8,
   "metadata": {},
   "outputs": [],
   "source": [
    "# Evaluate the number of epochs it took to train the networks\n",
    "runs = 20\n",
    "epochs_log = []\n",
    "for run in range(1,runs+1):\n",
    "    ea = EventAccumulator(f'../../lr_logs/wide_run{run}/train')\n",
    "    ea.Reload()\n",
    "    ct_loss, epochs_loss, loss = zip(*ea.Tensors('epoch_loss'))\n",
    "    epochs_loss = np.asarray(epochs_loss)\n",
    "    epochs_log.append(epochs_loss[-1] + 1)\n",
    "\n",
    "epochs_log = np.array(epochs_log)\n",
    "avg_epochs = np.mean(epochs_log)\n",
    "min_idx = np.argmin(epochs_log) + 1\n",
    "min_epochs = epochs_log[min_idx - 1]\n",
    "max_idx = np.argmax(epochs_log) + 1\n",
    "max_epochs = epochs_log[max_idx - 1]"
   ]
  },
  {
   "cell_type": "code",
   "execution_count": 9,
   "metadata": {},
   "outputs": [],
   "source": [
    "tmp = np.array([avg_acc, avg_loss, avg_elapsed, avg_epochs, max_epochs, max_idx, min_epochs, min_idx])\n",
    "probe_dir('../../results/')\n",
    "np.save('../../results/wide_results.npy', tmp)\n",
    "tmp = np.load('../../results/wide_results.npy')"
   ]
  },
  {
   "cell_type": "code",
   "execution_count": 10,
   "metadata": {},
   "outputs": [
    {
     "name": "stdout",
     "output_type": "stream",
     "text": [
      "Average accuracy: 0.8522727489471436\n",
      "Average loss: 0.3338468670845032\n",
      "Average time taken: 102.8077757358551\n",
      "Average epochs taken: 15.0\n",
      "Maximum number of epochs taken was 15.0 at run 1.0\n",
      "Minimum number of epochs taken was 15.0 at run 1.0\n"
     ]
    }
   ],
   "source": [
    "print(f\"Average accuracy: {tmp[0]}\")\n",
    "print(f\"Average loss: {tmp[1]}\")\n",
    "print(f\"Average time taken: {tmp[2]}\")\n",
    "print(f\"Average epochs taken: {tmp[3]}\")\n",
    "print(f\"Maximum number of epochs taken was {tmp[4]} at run {tmp[5]}\")\n",
    "print(f\"Minimum number of epochs taken was {tmp[6]} at run {tmp[7]}\")"
   ]
  },
  {
   "cell_type": "code",
   "execution_count": 11,
   "metadata": {},
   "outputs": [
    {
     "name": "stdout",
     "output_type": "stream",
     "text": [
      "Average bent precision: 0.7894736842105263\n",
      "Average bent recall: 0.7142857142857143\n",
      "Average bent F1: 0.7500000000000001\n",
      "Average comp precision: 0.8461538461538461\n",
      "Average comp recall: 1.0\n",
      "Average comp F1: 0.9166666666666666\n",
      "Average FRI precision: 1.0\n",
      "Average FRI recall: 0.8888888888888888\n",
      "Average FRI F1: 0.9411764705882353\n",
      "Average FRII precision: 0.825\n",
      "Average FRII recall: 0.868421052631579\n",
      "Average FRII F1: 0.8461538461538461\n",
      "Average Macro F1: 0.8634992458521871\n"
     ]
    },
    {
     "data": {
      "image/png": "[encoded data removed]",
      "text/plain": [
       "<Figure size 500x500 with 2 Axes>"
      ]
     },
     "metadata": {},
     "output_type": "display_data"
    }
   ],
   "source": [
    "bent_precs, bent_recalls, bent_f1s = [], [], []\n",
    "comp_precs, comp_recalls, comp_f1s = [], [], []\n",
    "fri_precs, fri_recalls, fri_f1s = [], [], []\n",
    "frii_precs, frii_recalls, frii_f1s = [], [], []\n",
    "macro_f1s = []\n",
    "average_cm = np.zeros((4, 4))\n",
    "runs = 20\n",
    "for run in range(1,runs+1):\n",
    "    aux_model = keras.models.load_model(f'../../models/aux_model{run}.h5')\n",
    "    X_test_pred = aux_model.predict(X_test)\n",
    "    X_test_aux = reshape_predictions(X_test_pred) \n",
    "    best_model = keras.models.load_model(f\"../../models/wide_model{run}.h5\")\n",
    "    test_pred = best_model.predict((X_test_aux, X_test))\n",
    "    new_test_true, new_test_pred = process_labels(y_test, test_pred)\n",
    "    cm = confusion_matrix(new_test_true, new_test_pred)\n",
    "    average_cm += cm\n",
    "    bent_prec, bent_recall = calc_precision_recall(cm, 0)\n",
    "    bent_precs.append(bent_prec)\n",
    "    bent_recalls.append(bent_recall)\n",
    "    bent_f1s.append(calc_f1(bent_prec, bent_recall))\n",
    "    comp_prec, comp_recall = calc_precision_recall(cm, 1)\n",
    "    comp_precs.append(comp_prec)\n",
    "    comp_recalls.append(comp_recall)\n",
    "    comp_f1s.append(calc_f1(comp_prec, comp_recall))\n",
    "    fri_prec, fri_recall = calc_precision_recall(cm, 2)\n",
    "    fri_precs.append(fri_prec)\n",
    "    fri_recalls.append(fri_recall)\n",
    "    fri_f1s.append(calc_f1(fri_prec, fri_recall))\n",
    "    frii_prec, frii_recall = calc_precision_recall(cm, 3)\n",
    "    frii_precs.append(frii_prec)\n",
    "    frii_recalls.append(frii_recall)\n",
    "    frii_f1s.append(calc_f1(frii_prec, frii_recall))\n",
    "    macro_f1s.append((bent_f1s[-1] + comp_f1s[-1] + fri_f1s[-1] + frii_f1s[-1])/4)\n",
    "\n",
    "average_cm = average_cm/runs\n",
    "print(f'Average bent precision: {np.mean(bent_precs)}')\n",
    "print(f'Average bent recall: {np.mean(bent_recalls)}')\n",
    "print(f'Average bent F1: {np.mean(bent_f1s)}')\n",
    "print(f'Average comp precision: {np.mean(comp_precs)}')\n",
    "print(f'Average comp recall: {np.mean(comp_recalls)}')\n",
    "print(f'Average comp F1: {np.mean(comp_f1s)}')\n",
    "print(f'Average FRI precision: {np.mean(fri_precs)}')\n",
    "print(f'Average FRI recall: {np.mean(fri_recalls)}')\n",
    "print(f'Average FRI F1: {np.mean(fri_f1s)}')\n",
    "print(f'Average FRII precision: {np.mean(frii_precs)}')\n",
    "print(f'Average FRII recall: {np.mean(frii_recalls)}')\n",
    "print(f'Average FRII F1: {np.mean(frii_f1s)}')\n",
    "print(f'Average Macro F1: {np.mean(macro_f1s)}')\n",
    "plot_cm(average_cm)"
   ]
  },
  {
   "cell_type": "code",
   "execution_count": null,
   "metadata": {},
   "outputs": [],
   "source": []
  }
 ],
 "metadata": {
  "kernelspec": {
   "display_name": "Python 3",
   "language": "python",
   "name": "python3"
  },
  "language_info": {
   "codemirror_mode": {
    "name": "ipython",
    "version": 3
   },
   "file_extension": ".py",
   "mimetype": "text/x-python",
   "name": "python",
   "nbconvert_exporter": "python",
   "pygments_lexer": "ipython3",
   "version": "3.8.10"
  }
 },
 "nbformat": 4,
 "nbformat_minor": 2
}
